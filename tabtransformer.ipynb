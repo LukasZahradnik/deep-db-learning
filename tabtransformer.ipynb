{
 "cells": [
  {
   "cell_type": "code",
   "execution_count": 1,
   "metadata": {},
   "outputs": [],
   "source": [
    "from typing import Any, Dict, List\n",
    "\n",
    "import torch\n",
    "\n",
    "from torch_geometric.data import HeteroData\n",
    "from torch_geometric.nn import MessagePassing, HeteroConv, MLP\n",
    "from torch_geometric.typing import EdgeType, NodeType\n",
    "\n",
    "from sentence_transformers import SentenceTransformer\n",
    "\n",
    "import torch_frame\n",
    "from torch_frame.nn import TabTransformer\n",
    "\n",
    "# from db_transformer.schema import Schema\n",
    "from db_transformer.data.relbench.ctu_dataset import CTUDataset\n",
    "\n",
    "%reload_ext autoreload\n",
    "%autoreload 2"
   ]
  },
  {
   "cell_type": "code",
   "execution_count": 5,
   "metadata": {},
   "outputs": [
    {
     "name": "stdout",
     "output_type": "stream",
     "text": [
      "{'opening_id': <stype.numerical: 'numerical'>, 'name': <stype.text_embedded: 'text_embedded'>, 'code': <stype.categorical: 'categorical'>, 'w1': <stype.text_embedded: 'text_embedded'>, 'b1': <stype.text_embedded: 'text_embedded'>, 'w2': <stype.text_embedded: 'text_embedded'>, 'b2': <stype.text_embedded: 'text_embedded'>, 'w3': <stype.text_embedded: 'text_embedded'>, 'b3': <stype.text_embedded: 'text_embedded'>, 'w4': <stype.text_embedded: 'text_embedded'>, 'b4': <stype.text_embedded: 'text_embedded'>, 'variation': <stype.text_embedded: 'text_embedded'>}\n",
      "{'game_id': <stype.numerical: 'numerical'>, 'opening_id': <stype.numerical: 'numerical'>, 'event': <stype.categorical: 'categorical'>, 'site': <stype.categorical: 'categorical'>, 'event_date': <stype.timestamp: 'timestamp'>, 'round': <stype.text_embedded: 'text_embedded'>, 'white': <stype.text_embedded: 'text_embedded'>, 'black': <stype.text_embedded: 'text_embedded'>, 'game_result': <stype.categorical: 'categorical'>, 'ECO': <stype.text_embedded: 'text_embedded'>, 'whiteElo': <stype.numerical: 'numerical'>, 'BlackElo': <stype.numerical: 'numerical'>, 'opening': <stype.text_embedded: 'text_embedded'>, 'w1': <stype.text_embedded: 'text_embedded'>, 'b1': <stype.categorical: 'categorical'>, 'w2': <stype.text_embedded: 'text_embedded'>, 'b2': <stype.text_embedded: 'text_embedded'>, 'w3': <stype.text_embedded: 'text_embedded'>, 'b3': <stype.text_embedded: 'text_embedded'>, 'w4': <stype.text_embedded: 'text_embedded'>, 'b4': <stype.text_embedded: 'text_embedded'>, 'w5': <stype.text_embedded: 'text_embedded'>, 'b5': <stype.text_embedded: 'text_embedded'>, 'w6': <stype.text_embedded: 'text_embedded'>, 'b6': <stype.text_embedded: 'text_embedded'>, 'w7': <stype.text_embedded: 'text_embedded'>, 'b7': <stype.text_embedded: 'text_embedded'>, 'w8': <stype.text_embedded: 'text_embedded'>, 'b8': <stype.text_embedded: 'text_embedded'>, 'w9': <stype.text_embedded: 'text_embedded'>, 'b9': <stype.text_embedded: 'text_embedded'>, 'w10': <stype.text_embedded: 'text_embedded'>, 'b10': <stype.text_embedded: 'text_embedded'>}\n"
     ]
    },
    {
     "name": "stderr",
     "output_type": "stream",
     "text": [
      "/home/jakub/Documents/ŠKOLA/Ing./Diplomka/deep-db-learning/db_transformer/data/relbench/ctu_dataset.py:157: UserWarning: Failed to join on foreign key ('game', 'opening_id', 'opening'). Reason: CTUDataset._fk_to_index() missing 1 required positional argument: 'device'\n",
      "  col_to_stype = infer_df_stype(df)\n"
     ]
    },
    {
     "ename": "TypeError",
     "evalue": "TabTransformer.__init__() missing 7 required positional arguments: 'num_layers', 'num_heads', 'encoder_pad_size', 'attn_dropout', 'ffn_dropout', 'col_stats', and 'col_names_dict'",
     "output_type": "error",
     "traceback": [
      "\u001b[0;31m---------------------------------------------------------------------------\u001b[0m",
      "\u001b[0;31mTypeError\u001b[0m                                 Traceback (most recent call last)",
      "Cell \u001b[0;32mIn [5], line 4\u001b[0m\n\u001b[1;32m      1\u001b[0m dataset \u001b[38;5;241m=\u001b[39m CTUDataset(\u001b[38;5;124m\"\u001b[39m\u001b[38;5;124mChess\u001b[39m\u001b[38;5;124m\"\u001b[39m, force_remake\u001b[38;5;241m=\u001b[39m\u001b[38;5;28;01mTrue\u001b[39;00m)\n\u001b[1;32m      2\u001b[0m data, column_defs \u001b[38;5;241m=\u001b[39m dataset\u001b[38;5;241m.\u001b[39mbuild_hetero_data()\n\u001b[0;32m----> 4\u001b[0m transformer \u001b[38;5;241m=\u001b[39m \u001b[43mTabTransformer\u001b[49m\u001b[43m(\u001b[49m\u001b[43mcolumn_defs\u001b[49m\u001b[43m,\u001b[49m\u001b[43m \u001b[49m\u001b[38;5;241;43m32\u001b[39;49m\u001b[43m)\u001b[49m\n\u001b[1;32m      6\u001b[0m \u001b[38;5;66;03m# text_embedder_cfg = TextEmbedderConfig(\u001b[39;00m\n\u001b[1;32m      7\u001b[0m \u001b[38;5;66;03m#     text_embedder=GloveTextEmbedding(), batch_size=32\u001b[39;00m\n\u001b[1;32m      8\u001b[0m \u001b[38;5;66;03m# )\u001b[39;00m\n\u001b[0;32m   (...)\u001b[0m\n\u001b[1;32m     11\u001b[0m \n\u001b[1;32m     12\u001b[0m \u001b[38;5;66;03m# encoder = HeteroEncoder()\u001b[39;00m\n\u001b[1;32m     14\u001b[0m \u001b[38;5;28mprint\u001b[39m(data[\u001b[38;5;124m'\u001b[39m\u001b[38;5;124mgame\u001b[39m\u001b[38;5;124m'\u001b[39m]\u001b[38;5;241m.\u001b[39mtf)\n",
      "\u001b[0;31mTypeError\u001b[0m: TabTransformer.__init__() missing 7 required positional arguments: 'num_layers', 'num_heads', 'encoder_pad_size', 'attn_dropout', 'ffn_dropout', 'col_stats', and 'col_names_dict'"
     ]
    }
   ],
   "source": [
    "dataset = CTUDataset(\"Chess\", force_remake=True)\n",
    "data, column_defs = dataset.build_hetero_data()\n",
    "\n",
    "# transformer = TabTransformer(column_defs, 32)\n",
    "\n",
    "# text_embedder_cfg = TextEmbedderConfig(\n",
    "#     text_embedder=GloveTextEmbedding(), batch_size=32\n",
    "# )\n",
    "\n",
    "# data = make_pkey_fkey_graph(dataset.db, col_to_stype_dict, text_embedder_cfg)\n",
    "\n",
    "# encoder = HeteroEncoder()\n",
    "\n",
    "print(data['game'].tf)\n",
    "\n"
   ]
  },
  {
   "cell_type": "code",
   "execution_count": null,
   "metadata": {},
   "outputs": [],
   "source": []
  }
 ],
 "metadata": {
  "kernelspec": {
   "display_name": "deep-db-learning",
   "language": "python",
   "name": "python3"
  },
  "language_info": {
   "codemirror_mode": {
    "name": "ipython",
    "version": 3
   },
   "file_extension": ".py",
   "mimetype": "text/x-python",
   "name": "python",
   "nbconvert_exporter": "python",
   "pygments_lexer": "ipython3",
   "version": "3.10.13"
  }
 },
 "nbformat": 4,
 "nbformat_minor": 2
}
