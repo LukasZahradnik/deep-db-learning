{
 "cells": [
  {
   "cell_type": "code",
   "execution_count": 2,
   "metadata": {},
   "outputs": [],
   "source": [
    "import os, sys\n",
    "\n",
    "sys.path.append(\"../\")\n",
    "\n",
    "from typing import List, Dict, Union, Optional, Any, Tuple, Literal\n",
    "\n",
    "import math\n",
    "import random\n",
    "\n",
    "import pandas as pd\n",
    "\n",
    "import numpy as np\n",
    "\n",
    "import torch\n",
    "from torch.nn import functional as F\n",
    "\n",
    "import lightning as L\n",
    "from lightning.pytorch import seed_everything\n",
    "\n",
    "import torch_geometric\n",
    "from torch_geometric.data import HeteroData\n",
    "from torch_geometric.loader import NeighborLoader, HGTLoader\n",
    "from torch_geometric.nn import conv, Sequential, summary\n",
    "import torch_geometric.transforms as T\n",
    "from torch_geometric.typing import EdgeType, NodeType\n",
    "\n",
    "import torch_frame\n",
    "from torch_frame import stype, NAStrategy\n",
    "from torch_frame.nn import encoder\n",
    "\n",
    "from torch_frame.nn import TabTransformerConv\n",
    "from torch_frame.data import StatType\n",
    "\n",
    "\n",
    "from db_transformer.nn import (\n",
    "    BlueprintModel,\n",
    "    EmbeddingTranscoder,\n",
    "    SelfAttention,\n",
    "    CrossAttentionConv,\n",
    "    NodeApplied,\n",
    "    AttentionAggregation\n",
    ")\n",
    "from db_transformer.nn.lightning import LightningWrapper\n",
    "from db_transformer.nn.lightning.callbacks import BestMetricsLoggerCallback\n",
    "\n",
    "from db_transformer.data.ctu_dataset import CTUDataset, CTU_REPOSITORY_DEFAULTS, TaskType\n",
    "\n",
    "from experiments.blueprint_instances import create_blueprint_model\n",
    "\n",
    "\n",
    "%reload_ext autoreload\n",
    "%autoreload 2"
   ]
  },
  {
   "cell_type": "code",
   "execution_count": 13,
   "metadata": {},
   "outputs": [
    {
     "data": {
      "application/vnd.jupyter.widget-view+json": {
       "model_id": "0968f7c33bb44a4b95f6b3520d5d7c0a",
       "version_major": 2,
       "version_minor": 0
      },
      "text/plain": [
       "Building data:   0%|          | 0/5 [00:00<?, ?it/s]"
      ]
     },
     "metadata": {},
     "output_type": "display_data"
    },
    {
     "name": "stdout",
     "output_type": "stream",
     "text": [
      "Table scrapefix has stypes:\n",
      "\tcategorical: ['contributor', 'fix_description']\n",
      "Table people has stypes:\n",
      "\tcategorical: ['court', 'jury']\n",
      "\tembedding: ['name']\n",
      "Table legalact_people has stypes:\n",
      "\tcategorical: ['__filler']\n",
      "Table legalact_link has stypes:\n",
      "\tcategorical: ['__filler']\n",
      "Table legalacts has stypes:\n",
      "\ttimestamp: ['LegalDate', 'MotiveDate', 'SendDate', 'StartDate', 'update']\n",
      "\tcategorical: ['ActLink', 'CaseKind', 'Court', 'HighCourt', 'MotiveLink', 'ResultOfAppeal', 'Status', 'TypeOfDocument']\n",
      "\tnumerical: ['ActNumber', 'ActYear', 'CaseNumber', 'OutNumber', 'YearHigherCourt']\n",
      "\tembedding: ['Judge', 'hash']\n"
     ]
    }
   ],
   "source": [
    "dataset = CTUDataset(\"legalActs\", data_dir=\"../datasets\", force_remake=False)\n",
    "\n",
    "data, col_stats_dict = dataset.build_hetero_data(\n",
    "    force_rematerilize=False, no_text_emebedding=False\n",
    ")\n",
    "\n",
    "n_total = data[dataset.defaults.target_table].y.shape[0]\n",
    "\n",
    "data = T.RandomNodeSplit(split=\"train_rest\", num_val=int(0.30 * n_total), num_test=0)(data)"
   ]
  },
  {
   "cell_type": "code",
   "execution_count": 23,
   "metadata": {},
   "outputs": [
    {
     "name": "stderr",
     "output_type": "stream",
     "text": [
      "Seed set to 42\n"
     ]
    },
    {
     "name": "stdout",
     "output_type": "stream",
     "text": [
      "4096\n"
     ]
    }
   ],
   "source": [
    "target = dataset.defaults.target\n",
    "\n",
    "seed_everything(42)\n",
    "\n",
    "total_samples = data[target[0]].y.shape[0]\n",
    "scale_exponent = 2\n",
    "min_batch_size = max(16, int(2 ** np.around(np.log2(total_samples / 500))))\n",
    "batch_size = min(min_batch_size * 2**scale_exponent, 16384)\n",
    "print(batch_size)\n",
    "\n",
    "# train_loader = NeighborLoader(\n",
    "train_loader = HGTLoader(\n",
    "    data,\n",
    "    # num_neighbors=[30] * 5,\n",
    "    num_samples=[30] * 1,\n",
    "    batch_size=batch_size,\n",
    "    input_nodes=(target[0], data[target[0]].train_mask),\n",
    "    shuffle=True,\n",
    ")\n",
    "\n",
    "# val_loader = NeighborLoader(\n",
    "val_loader = HGTLoader(\n",
    "    data,\n",
    "    # num_neighbors=[30] * 5,\n",
    "    num_samples=[30] * 1,\n",
    "    batch_size=batch_size,\n",
    "    input_nodes=(target[0], data[target[0]].val_mask),\n",
    "    shuffle=True,\n",
    ")"
   ]
  },
  {
   "cell_type": "code",
   "execution_count": 24,
   "metadata": {},
   "outputs": [
    {
     "name": "stdout",
     "output_type": "stream",
     "text": [
      "(tensor([0, 1, 2, 3, 4, 5, 6]), tensor([2597,  804,  302,  272,   59,   31,   31]))\n"
     ]
    }
   ],
   "source": [
    "sample: HeteroData = next(iter(train_loader))\n",
    "\n",
    "y: torch.Tensor = sample[target[0]].y\n",
    "print(y.unique(return_counts=True))\n",
    "# print(y.min(), y.max())"
   ]
  },
  {
   "cell_type": "code",
   "execution_count": 28,
   "metadata": {},
   "outputs": [],
   "source": [
    "edge_types = list(data.collect(\"edge_index\", allow_empty=True).keys())\n",
    "\n",
    "del model\n",
    "model = create_blueprint_model(\n",
    "    \"transformer\",\n",
    "    dataset.defaults,\n",
    "    {node: tf.col_names_dict for node, tf in data.collect(\"tf\").items() if tf.num_rows > 0},\n",
    "    edge_types,\n",
    "    col_stats_dict,\n",
    "    dict(\n",
    "        embed_dim=64,\n",
    "        encoder=\"with_time\",\n",
    "        gnn_layers=5,\n",
    "        mlp_dims=[64, 64],\n",
    "        num_heads=1,\n",
    "        residual=True,\n",
    "        batch_norm=False,\n",
    "        dropout=0.0,\n",
    "    ),\n",
    ")"
   ]
  },
  {
   "cell_type": "code",
   "execution_count": 29,
   "metadata": {},
   "outputs": [
    {
     "name": "stdout",
     "output_type": "stream",
     "text": [
      "+-----------------------------------------------------------------------------------+------------------------------------------------+--------------------------------+----------+\n",
      "| Layer                                                                             | Input Shape                                    | Output Shape                   | #Param   |\n",
      "|-----------------------------------------------------------------------------------+------------------------------------------------+--------------------------------+----------|\n",
      "| BlueprintModel                                                                    |                                                | [4096, 7]                      | 240,517  |\n",
      "| ├─(embedder)Sequential                                                            |                                                |                                | 50,944   |\n",
      "| │    └─(module_0)DBEmbedder                                                       |                                                |                                | 50,944   |\n",
      "| │    │    └─(table_embedders)ModuleDict                                           | --                                             | --                             | 50,944   |\n",
      "| │    │    │    └─(scrapefix)TableEmbedder                                         |                                                | [1, 2, 64]                     | 1,344    |\n",
      "| │    │    │    │    └─(encoder_dict)ModuleDict                                    | --                                             | --                             | 1,344    |\n",
      "| │    │    │    │    │    └─(categorical)EmbeddingEncoder                          | [1, 2]                                         | [1, 2, 64]                     | 1,344    |\n",
      "| │    │    │    │    │    │    └─(emb)Embedding                                    | [1, 2]                                         | [1, 2, 64]                     | 1,344    |\n",
      "| │    │    │    └─(people)TableEmbedder                                            | --                                             | --                             | 11,520   |\n",
      "| │    │    │    │    └─(encoder_dict)ModuleDict                                    | --                                             | --                             | 11,520   |\n",
      "| │    │    │    │    │    └─(categorical)EmbeddingEncoder                          | --                                             | --                             | 11,520   |\n",
      "| │    │    │    │    │    │    └─(emb)Embedding                                    | --                                             | --                             | 11,520   |\n",
      "| │    │    │    └─(legalact_people)TableEmbedder                                   |                                                | [30, 1, 64]                    | 128      |\n",
      "| │    │    │    │    └─(encoder_dict)ModuleDict                                    | --                                             | --                             | 128      |\n",
      "| │    │    │    │    │    └─(categorical)EmbeddingEncoder                          | [30, 1]                                        | [30, 1, 64]                    | 128      |\n",
      "| │    │    │    │    │    │    └─(emb)Embedding                                    | [30, 1]                                        | [30, 1, 64]                    | 128      |\n",
      "| │    │    │    └─(legalact_link)TableEmbedder                                     |                                                | [30, 1, 64]                    | 128      |\n",
      "| │    │    │    │    └─(encoder_dict)ModuleDict                                    | --                                             | --                             | 128      |\n",
      "| │    │    │    │    │    └─(categorical)EmbeddingEncoder                          | [30, 1]                                        | [30, 1, 64]                    | 128      |\n",
      "| │    │    │    │    │    │    └─(emb)Embedding                                    | [30, 1]                                        | [30, 1, 64]                    | 128      |\n",
      "| │    │    │    └─(legalacts)TableEmbedder                                         |                                                | [4096, 18, 64]                 | 37,824   |\n",
      "| │    │    │    │    └─(encoder_dict)ModuleDict                                    | --                                             | --                             | 37,824   |\n",
      "| │    │    │    │    │    └─(categorical)EmbeddingEncoder                          | [4096, 8]                                      | [4096, 8, 64]                  | 18,944   |\n",
      "| │    │    │    │    │    │    └─(emb)Embedding                                    | [4096, 8]                                      | [4096, 8, 64]                  | 18,944   |\n",
      "| │    │    │    │    │    └─(numerical)LinearEncoder                               | [4096, 5]                                      | [4096, 5, 64]                  | 640      |\n",
      "| │    │    │    │    │    └─(timestamp)TimestampEncoder                            | [4096, 5, 7]                                   | [4096, 5, 64]                  | 18,240   |\n",
      "| │    │    │    │    │    │    └─(positional_encoding)PositionalEncoding           | [4096, 5, 1]                                   | [4096, 5, 1, 8]                | --       |\n",
      "| │    │    │    │    │    │    └─(cyclic_encoding)CyclicEncoding                   | [4096, 5, 6]                                   | [4096, 5, 6, 8]                | --       |\n",
      "| ├─(hetero_gnn)Sequential                                                          |                                                |                                | 182,590  |\n",
      "| │    └─(module_0)NodeApplied                                                      |                                                |                                | 93,600   |\n",
      "| │    │    └─(node_layer_dict)ModuleDict                                           | --                                             | --                             | 93,600   |\n",
      "| │    │    │    └─(scrapefix)Sequential                                            | [1, 2, 64]                                     | [1, 2, 32]                     | 18,720   |\n",
      "| │    │    │    │    └─(0)SelfAttention                                            | [1, 2, 64]                                     | [1, 2, 64]                     | 16,640   |\n",
      "| │    │    │    │    │    └─(attn)MultiheadAttention                               | [1, 2, 64], [1, 2, 64], [1, 2, 64]             | [1, 2, 64], [1, 2, 2]          | 16,640   |\n",
      "| │    │    │    │    │    │    └─(out_proj)NonDynamicallyQuantizableLinear         | --                                             | --                             | 4,160    |\n",
      "| │    │    │    │    └─(1)Linear                                                   | [1, 2, 64]                                     | [1, 2, 32]                     | 2,080    |\n",
      "| │    │    │    └─(people)Sequential                                               | --                                             | --                             | 18,720   |\n",
      "| │    │    │    │    └─(0)SelfAttention                                            | --                                             | --                             | 16,640   |\n",
      "| │    │    │    │    │    └─(attn)MultiheadAttention                               | --                                             | --                             | 16,640   |\n",
      "| │    │    │    │    │    │    └─(out_proj)NonDynamicallyQuantizableLinear         | --                                             | --                             | 4,160    |\n",
      "| │    │    │    │    └─(1)Linear                                                   | --                                             | --                             | 2,080    |\n",
      "| │    │    │    └─(legalact_people)Sequential                                      | [30, 1, 64]                                    | [30, 1, 32]                    | 18,720   |\n",
      "| │    │    │    │    └─(0)SelfAttention                                            | [30, 1, 64]                                    | [30, 1, 64]                    | 16,640   |\n",
      "| │    │    │    │    │    └─(attn)MultiheadAttention                               | [30, 1, 64], [30, 1, 64], [30, 1, 64]          | [30, 1, 64], [30, 1, 1]        | 16,640   |\n",
      "| │    │    │    │    │    │    └─(out_proj)NonDynamicallyQuantizableLinear         | --                                             | --                             | 4,160    |\n",
      "| │    │    │    │    └─(1)Linear                                                   | [30, 1, 64]                                    | [30, 1, 32]                    | 2,080    |\n",
      "| │    │    │    └─(legalact_link)Sequential                                        | [30, 1, 64]                                    | [30, 1, 32]                    | 18,720   |\n",
      "| │    │    │    │    └─(0)SelfAttention                                            | [30, 1, 64]                                    | [30, 1, 64]                    | 16,640   |\n",
      "| │    │    │    │    │    └─(attn)MultiheadAttention                               | [30, 1, 64], [30, 1, 64], [30, 1, 64]          | [30, 1, 64], [30, 1, 1]        | 16,640   |\n",
      "| │    │    │    │    │    │    └─(out_proj)NonDynamicallyQuantizableLinear         | --                                             | --                             | 4,160    |\n",
      "| │    │    │    │    └─(1)Linear                                                   | [30, 1, 64]                                    | [30, 1, 32]                    | 2,080    |\n",
      "| │    │    │    └─(legalacts)Sequential                                            | [4096, 18, 64]                                 | [4096, 18, 32]                 | 18,720   |\n",
      "| │    │    │    │    └─(0)SelfAttention                                            | [4096, 18, 64]                                 | [4096, 18, 64]                 | 16,640   |\n",
      "| │    │    │    │    │    └─(attn)MultiheadAttention                               | [4096, 18, 64], [4096, 18, 64], [4096, 18, 64] | [4096, 18, 64], [4096, 18, 18] | 16,640   |\n",
      "| │    │    │    │    │    │    └─(out_proj)NonDynamicallyQuantizableLinear         | --                                             | --                             | 4,160    |\n",
      "| │    │    │    │    └─(1)Linear                                                   | [4096, 18, 64]                                 | [4096, 18, 32]                 | 2,080    |\n",
      "| │    └─(module_1)HeteroConv                                                       |                                                |                                | 42,240   |\n",
      "| │    │    └─(convs)ModuleDict                                                     | --                                             | --                             | 42,240   |\n",
      "| │    │    │    └─(<scrapefix___fk-actId___legalacts>)CrossAttentionConv           | [2, 1]                                         | [4096, 18, 32]                 | 4,224    |\n",
      "| │    │    │    └─(<legalact_people___fk-peopleId___people>)CrossAttentionConv     | --                                             | --                             | 4,224    |\n",
      "| │    │    │    └─(<legalact_people___fk-actId___legalacts>)CrossAttentionConv     | [2, 30]                                        | [4096, 18, 32]                 | 4,224    |\n",
      "| │    │    │    └─(<legalact_link___fk-actId1___legalacts>)CrossAttentionConv      | [2, 13]                                        | [4096, 18, 32]                 | 4,224    |\n",
      "| │    │    │    └─(<legalact_link___fk-actId2___legalacts>)CrossAttentionConv      | [2, 18]                                        | [4096, 18, 32]                 | 4,224    |\n",
      "| │    │    │    └─(<legalacts___rev_fk-actId___scrapefix>)CrossAttentionConv       | [2, 1]                                         | [1, 2, 32]                     | 4,224    |\n",
      "| │    │    │    └─(<people___rev_fk-peopleId___legalact_people>)CrossAttentionConv | --                                             | --                             | 4,224    |\n",
      "| │    │    │    └─(<legalacts___rev_fk-actId___legalact_people>)CrossAttentionConv | [2, 30]                                        | [30, 1, 32]                    | 4,224    |\n",
      "| │    │    │    └─(<legalacts___rev_fk-actId1___legalact_link>)CrossAttentionConv  | [2, 13]                                        | [30, 1, 32]                    | 4,224    |\n",
      "| │    │    │    └─(<legalacts___rev_fk-actId2___legalact_link>)CrossAttentionConv  | [2, 18]                                        | [30, 1, 32]                    | 4,224    |\n",
      "| │    └─(module_2)NodeApplied                                                      |                                                |                                | --       |\n",
      "| │    └─(module_3)NodeApplied                                                      |                                                |                                | 23,760   |\n",
      "| │    │    └─(node_layer_dict)ModuleDict                                           | --                                             | --                             | 23,760   |\n",
      "| │    │    │    └─(scrapefix)Sequential                                            | [1, 2, 32]                                     | [1, 2, 16]                     | 4,752    |\n",
      "| │    │    │    │    └─(0)SelfAttention                                            | [1, 2, 32]                                     | [1, 2, 32]                     | 4,224    |\n",
      "| │    │    │    │    │    └─(attn)MultiheadAttention                               | [1, 2, 32], [1, 2, 32], [1, 2, 32]             | [1, 2, 32], [1, 2, 2]          | 4,224    |\n",
      "| │    │    │    │    │    │    └─(out_proj)NonDynamicallyQuantizableLinear         | --                                             | --                             | 1,056    |\n",
      "| │    │    │    │    └─(1)Linear                                                   | [1, 2, 32]                                     | [1, 2, 16]                     | 528      |\n",
      "| │    │    │    └─(people)Sequential                                               | --                                             | --                             | 4,752    |\n",
      "| │    │    │    │    └─(0)SelfAttention                                            | --                                             | --                             | 4,224    |\n",
      "| │    │    │    │    │    └─(attn)MultiheadAttention                               | --                                             | --                             | 4,224    |\n",
      "| │    │    │    │    │    │    └─(out_proj)NonDynamicallyQuantizableLinear         | --                                             | --                             | 1,056    |\n",
      "| │    │    │    │    └─(1)Linear                                                   | --                                             | --                             | 528      |\n",
      "| │    │    │    └─(legalact_people)Sequential                                      | [30, 1, 32]                                    | [30, 1, 16]                    | 4,752    |\n",
      "| │    │    │    │    └─(0)SelfAttention                                            | [30, 1, 32]                                    | [30, 1, 32]                    | 4,224    |\n",
      "| │    │    │    │    │    └─(attn)MultiheadAttention                               | [30, 1, 32], [30, 1, 32], [30, 1, 32]          | [30, 1, 32], [30, 1, 1]        | 4,224    |\n",
      "| │    │    │    │    │    │    └─(out_proj)NonDynamicallyQuantizableLinear         | --                                             | --                             | 1,056    |\n",
      "| │    │    │    │    └─(1)Linear                                                   | [30, 1, 32]                                    | [30, 1, 16]                    | 528      |\n",
      "| │    │    │    └─(legalact_link)Sequential                                        | [30, 1, 32]                                    | [30, 1, 16]                    | 4,752    |\n",
      "| │    │    │    │    └─(0)SelfAttention                                            | [30, 1, 32]                                    | [30, 1, 32]                    | 4,224    |\n",
      "| │    │    │    │    │    └─(attn)MultiheadAttention                               | [30, 1, 32], [30, 1, 32], [30, 1, 32]          | [30, 1, 32], [30, 1, 1]        | 4,224    |\n",
      "| │    │    │    │    │    │    └─(out_proj)NonDynamicallyQuantizableLinear         | --                                             | --                             | 1,056    |\n",
      "| │    │    │    │    └─(1)Linear                                                   | [30, 1, 32]                                    | [30, 1, 16]                    | 528      |\n",
      "| │    │    │    └─(legalacts)Sequential                                            | [4096, 18, 32]                                 | [4096, 18, 16]                 | 4,752    |\n",
      "| │    │    │    │    └─(0)SelfAttention                                            | [4096, 18, 32]                                 | [4096, 18, 32]                 | 4,224    |\n",
      "| │    │    │    │    │    └─(attn)MultiheadAttention                               | [4096, 18, 32], [4096, 18, 32], [4096, 18, 32] | [4096, 18, 32], [4096, 18, 18] | 4,224    |\n",
      "| │    │    │    │    │    │    └─(out_proj)NonDynamicallyQuantizableLinear         | --                                             | --                             | 1,056    |\n",
      "| │    │    │    │    └─(1)Linear                                                   | [4096, 18, 32]                                 | [4096, 18, 16]                 | 528      |\n",
      "| │    └─(module_4)HeteroConv                                                       |                                                |                                | 10,880   |\n",
      "| │    │    └─(convs)ModuleDict                                                     | --                                             | --                             | 10,880   |\n",
      "| │    │    │    └─(<scrapefix___fk-actId___legalacts>)CrossAttentionConv           | [2, 1]                                         | [4096, 18, 16]                 | 1,088    |\n",
      "| │    │    │    └─(<legalact_people___fk-peopleId___people>)CrossAttentionConv     | --                                             | --                             | 1,088    |\n",
      "| │    │    │    └─(<legalact_people___fk-actId___legalacts>)CrossAttentionConv     | [2, 30]                                        | [4096, 18, 16]                 | 1,088    |\n",
      "| │    │    │    └─(<legalact_link___fk-actId1___legalacts>)CrossAttentionConv      | [2, 13]                                        | [4096, 18, 16]                 | 1,088    |\n",
      "| │    │    │    └─(<legalact_link___fk-actId2___legalacts>)CrossAttentionConv      | [2, 18]                                        | [4096, 18, 16]                 | 1,088    |\n",
      "| │    │    │    └─(<legalacts___rev_fk-actId___scrapefix>)CrossAttentionConv       | [2, 1]                                         | [1, 2, 16]                     | 1,088    |\n",
      "| │    │    │    └─(<people___rev_fk-peopleId___legalact_people>)CrossAttentionConv | --                                             | --                             | 1,088    |\n",
      "| │    │    │    └─(<legalacts___rev_fk-actId___legalact_people>)CrossAttentionConv | [2, 30]                                        | [30, 1, 16]                    | 1,088    |\n",
      "| │    │    │    └─(<legalacts___rev_fk-actId1___legalact_link>)CrossAttentionConv  | [2, 13]                                        | [30, 1, 16]                    | 1,088    |\n",
      "| │    │    │    └─(<legalacts___rev_fk-actId2___legalact_link>)CrossAttentionConv  | [2, 18]                                        | [30, 1, 16]                    | 1,088    |\n",
      "| │    └─(module_5)NodeApplied                                                      |                                                |                                | --       |\n",
      "| │    └─(module_6)NodeApplied                                                      |                                                |                                | 6,120    |\n",
      "| │    │    └─(node_layer_dict)ModuleDict                                           | --                                             | --                             | 6,120    |\n",
      "| │    │    │    └─(scrapefix)Sequential                                            | [1, 2, 16]                                     | [1, 2, 8]                      | 1,224    |\n",
      "| │    │    │    │    └─(0)SelfAttention                                            | [1, 2, 16]                                     | [1, 2, 16]                     | 1,088    |\n",
      "| │    │    │    │    │    └─(attn)MultiheadAttention                               | [1, 2, 16], [1, 2, 16], [1, 2, 16]             | [1, 2, 16], [1, 2, 2]          | 1,088    |\n",
      "| │    │    │    │    │    │    └─(out_proj)NonDynamicallyQuantizableLinear         | --                                             | --                             | 272      |\n",
      "| │    │    │    │    └─(1)Linear                                                   | [1, 2, 16]                                     | [1, 2, 8]                      | 136      |\n",
      "| │    │    │    └─(people)Sequential                                               | --                                             | --                             | 1,224    |\n",
      "| │    │    │    │    └─(0)SelfAttention                                            | --                                             | --                             | 1,088    |\n",
      "| │    │    │    │    │    └─(attn)MultiheadAttention                               | --                                             | --                             | 1,088    |\n",
      "| │    │    │    │    │    │    └─(out_proj)NonDynamicallyQuantizableLinear         | --                                             | --                             | 272      |\n",
      "| │    │    │    │    └─(1)Linear                                                   | --                                             | --                             | 136      |\n",
      "| │    │    │    └─(legalact_people)Sequential                                      | [30, 1, 16]                                    | [30, 1, 8]                     | 1,224    |\n",
      "| │    │    │    │    └─(0)SelfAttention                                            | [30, 1, 16]                                    | [30, 1, 16]                    | 1,088    |\n",
      "| │    │    │    │    │    └─(attn)MultiheadAttention                               | [30, 1, 16], [30, 1, 16], [30, 1, 16]          | [30, 1, 16], [30, 1, 1]        | 1,088    |\n",
      "| │    │    │    │    │    │    └─(out_proj)NonDynamicallyQuantizableLinear         | --                                             | --                             | 272      |\n",
      "| │    │    │    │    └─(1)Linear                                                   | [30, 1, 16]                                    | [30, 1, 8]                     | 136      |\n",
      "| │    │    │    └─(legalact_link)Sequential                                        | [30, 1, 16]                                    | [30, 1, 8]                     | 1,224    |\n",
      "| │    │    │    │    └─(0)SelfAttention                                            | [30, 1, 16]                                    | [30, 1, 16]                    | 1,088    |\n",
      "| │    │    │    │    │    └─(attn)MultiheadAttention                               | [30, 1, 16], [30, 1, 16], [30, 1, 16]          | [30, 1, 16], [30, 1, 1]        | 1,088    |\n",
      "| │    │    │    │    │    │    └─(out_proj)NonDynamicallyQuantizableLinear         | --                                             | --                             | 272      |\n",
      "| │    │    │    │    └─(1)Linear                                                   | [30, 1, 16]                                    | [30, 1, 8]                     | 136      |\n",
      "| │    │    │    └─(legalacts)Sequential                                            | [4096, 18, 16]                                 | [4096, 18, 8]                  | 1,224    |\n",
      "| │    │    │    │    └─(0)SelfAttention                                            | [4096, 18, 16]                                 | [4096, 18, 16]                 | 1,088    |\n",
      "| │    │    │    │    │    └─(attn)MultiheadAttention                               | [4096, 18, 16], [4096, 18, 16], [4096, 18, 16] | [4096, 18, 16], [4096, 18, 18] | 1,088    |\n",
      "| │    │    │    │    │    │    └─(out_proj)NonDynamicallyQuantizableLinear         | --                                             | --                             | 272      |\n",
      "| │    │    │    │    └─(1)Linear                                                   | [4096, 18, 16]                                 | [4096, 18, 8]                  | 136      |\n",
      "| │    └─(module_7)HeteroConv                                                       |                                                |                                | 2,880    |\n",
      "| │    │    └─(convs)ModuleDict                                                     | --                                             | --                             | 2,880    |\n",
      "| │    │    │    └─(<scrapefix___fk-actId___legalacts>)CrossAttentionConv           | [2, 1]                                         | [4096, 18, 8]                  | 288      |\n",
      "| │    │    │    └─(<legalact_people___fk-peopleId___people>)CrossAttentionConv     | --                                             | --                             | 288      |\n",
      "| │    │    │    └─(<legalact_people___fk-actId___legalacts>)CrossAttentionConv     | [2, 30]                                        | [4096, 18, 8]                  | 288      |\n",
      "| │    │    │    └─(<legalact_link___fk-actId1___legalacts>)CrossAttentionConv      | [2, 13]                                        | [4096, 18, 8]                  | 288      |\n",
      "| │    │    │    └─(<legalact_link___fk-actId2___legalacts>)CrossAttentionConv      | [2, 18]                                        | [4096, 18, 8]                  | 288      |\n",
      "| │    │    │    └─(<legalacts___rev_fk-actId___scrapefix>)CrossAttentionConv       | [2, 1]                                         | [1, 2, 8]                      | 288      |\n",
      "| │    │    │    └─(<people___rev_fk-peopleId___legalact_people>)CrossAttentionConv | --                                             | --                             | 288      |\n",
      "| │    │    │    └─(<legalacts___rev_fk-actId___legalact_people>)CrossAttentionConv | [2, 30]                                        | [30, 1, 8]                     | 288      |\n",
      "| │    │    │    └─(<legalacts___rev_fk-actId1___legalact_link>)CrossAttentionConv  | [2, 13]                                        | [30, 1, 8]                     | 288      |\n",
      "| │    │    │    └─(<legalacts___rev_fk-actId2___legalact_link>)CrossAttentionConv  | [2, 18]                                        | [30, 1, 8]                     | 288      |\n",
      "| │    └─(module_8)NodeApplied                                                      |                                                |                                | --       |\n",
      "| │    └─(module_9)NodeApplied                                                      |                                                |                                | 1,620    |\n",
      "| │    │    └─(node_layer_dict)ModuleDict                                           | --                                             | --                             | 1,620    |\n",
      "| │    │    │    └─(scrapefix)Sequential                                            | [1, 2, 8]                                      | [1, 2, 4]                      | 324      |\n",
      "| │    │    │    │    └─(0)SelfAttention                                            | [1, 2, 8]                                      | [1, 2, 8]                      | 288      |\n",
      "| │    │    │    │    │    └─(attn)MultiheadAttention                               | [1, 2, 8], [1, 2, 8], [1, 2, 8]                | [1, 2, 8], [1, 2, 2]           | 288      |\n",
      "| │    │    │    │    │    │    └─(out_proj)NonDynamicallyQuantizableLinear         | --                                             | --                             | 72       |\n",
      "| │    │    │    │    └─(1)Linear                                                   | [1, 2, 8]                                      | [1, 2, 4]                      | 36       |\n",
      "| │    │    │    └─(people)Sequential                                               | --                                             | --                             | 324      |\n",
      "| │    │    │    │    └─(0)SelfAttention                                            | --                                             | --                             | 288      |\n",
      "| │    │    │    │    │    └─(attn)MultiheadAttention                               | --                                             | --                             | 288      |\n",
      "| │    │    │    │    │    │    └─(out_proj)NonDynamicallyQuantizableLinear         | --                                             | --                             | 72       |\n",
      "| │    │    │    │    └─(1)Linear                                                   | --                                             | --                             | 36       |\n",
      "| │    │    │    └─(legalact_people)Sequential                                      | [30, 1, 8]                                     | [30, 1, 4]                     | 324      |\n",
      "| │    │    │    │    └─(0)SelfAttention                                            | [30, 1, 8]                                     | [30, 1, 8]                     | 288      |\n",
      "| │    │    │    │    │    └─(attn)MultiheadAttention                               | [30, 1, 8], [30, 1, 8], [30, 1, 8]             | [30, 1, 8], [30, 1, 1]         | 288      |\n",
      "| │    │    │    │    │    │    └─(out_proj)NonDynamicallyQuantizableLinear         | --                                             | --                             | 72       |\n",
      "| │    │    │    │    └─(1)Linear                                                   | [30, 1, 8]                                     | [30, 1, 4]                     | 36       |\n",
      "| │    │    │    └─(legalact_link)Sequential                                        | [30, 1, 8]                                     | [30, 1, 4]                     | 324      |\n",
      "| │    │    │    │    └─(0)SelfAttention                                            | [30, 1, 8]                                     | [30, 1, 8]                     | 288      |\n",
      "| │    │    │    │    │    └─(attn)MultiheadAttention                               | [30, 1, 8], [30, 1, 8], [30, 1, 8]             | [30, 1, 8], [30, 1, 1]         | 288      |\n",
      "| │    │    │    │    │    │    └─(out_proj)NonDynamicallyQuantizableLinear         | --                                             | --                             | 72       |\n",
      "| │    │    │    │    └─(1)Linear                                                   | [30, 1, 8]                                     | [30, 1, 4]                     | 36       |\n",
      "| │    │    │    └─(legalacts)Sequential                                            | [4096, 18, 8]                                  | [4096, 18, 4]                  | 324      |\n",
      "| │    │    │    │    └─(0)SelfAttention                                            | [4096, 18, 8]                                  | [4096, 18, 8]                  | 288      |\n",
      "| │    │    │    │    │    └─(attn)MultiheadAttention                               | [4096, 18, 8], [4096, 18, 8], [4096, 18, 8]    | [4096, 18, 8], [4096, 18, 18]  | 288      |\n",
      "| │    │    │    │    │    │    └─(out_proj)NonDynamicallyQuantizableLinear         | --                                             | --                             | 72       |\n",
      "| │    │    │    │    └─(1)Linear                                                   | [4096, 18, 8]                                  | [4096, 18, 4]                  | 36       |\n",
      "| │    └─(module_10)HeteroConv                                                      |                                                |                                | 800      |\n",
      "| │    │    └─(convs)ModuleDict                                                     | --                                             | --                             | 800      |\n",
      "| │    │    │    └─(<scrapefix___fk-actId___legalacts>)CrossAttentionConv           | [2, 1]                                         | [4096, 18, 4]                  | 80       |\n",
      "| │    │    │    └─(<legalact_people___fk-peopleId___people>)CrossAttentionConv     | --                                             | --                             | 80       |\n",
      "| │    │    │    └─(<legalact_people___fk-actId___legalacts>)CrossAttentionConv     | [2, 30]                                        | [4096, 18, 4]                  | 80       |\n",
      "| │    │    │    └─(<legalact_link___fk-actId1___legalacts>)CrossAttentionConv      | [2, 13]                                        | [4096, 18, 4]                  | 80       |\n",
      "| │    │    │    └─(<legalact_link___fk-actId2___legalacts>)CrossAttentionConv      | [2, 18]                                        | [4096, 18, 4]                  | 80       |\n",
      "| │    │    │    └─(<legalacts___rev_fk-actId___scrapefix>)CrossAttentionConv       | [2, 1]                                         | [1, 2, 4]                      | 80       |\n",
      "| │    │    │    └─(<people___rev_fk-peopleId___legalact_people>)CrossAttentionConv | --                                             | --                             | 80       |\n",
      "| │    │    │    └─(<legalacts___rev_fk-actId___legalact_people>)CrossAttentionConv | [2, 30]                                        | [30, 1, 4]                     | 80       |\n",
      "| │    │    │    └─(<legalacts___rev_fk-actId1___legalact_link>)CrossAttentionConv  | [2, 13]                                        | [30, 1, 4]                     | 80       |\n",
      "| │    │    │    └─(<legalacts___rev_fk-actId2___legalact_link>)CrossAttentionConv  | [2, 18]                                        | [30, 1, 4]                     | 80       |\n",
      "| │    └─(module_11)NodeApplied                                                     |                                                |                                | --       |\n",
      "| │    └─(module_12)NodeApplied                                                     |                                                |                                | 450      |\n",
      "| │    │    └─(node_layer_dict)ModuleDict                                           | --                                             | --                             | 450      |\n",
      "| │    │    │    └─(scrapefix)Sequential                                            | [1, 2, 4]                                      | [1, 2, 2]                      | 90       |\n",
      "| │    │    │    │    └─(0)SelfAttention                                            | [1, 2, 4]                                      | [1, 2, 4]                      | 80       |\n",
      "| │    │    │    │    │    └─(attn)MultiheadAttention                               | [1, 2, 4], [1, 2, 4], [1, 2, 4]                | [1, 2, 4], [1, 2, 2]           | 80       |\n",
      "| │    │    │    │    │    │    └─(out_proj)NonDynamicallyQuantizableLinear         | --                                             | --                             | 20       |\n",
      "| │    │    │    │    └─(1)Linear                                                   | [1, 2, 4]                                      | [1, 2, 2]                      | 10       |\n",
      "| │    │    │    └─(people)Sequential                                               | --                                             | --                             | 90       |\n",
      "| │    │    │    │    └─(0)SelfAttention                                            | --                                             | --                             | 80       |\n",
      "| │    │    │    │    │    └─(attn)MultiheadAttention                               | --                                             | --                             | 80       |\n",
      "| │    │    │    │    │    │    └─(out_proj)NonDynamicallyQuantizableLinear         | --                                             | --                             | 20       |\n",
      "| │    │    │    │    └─(1)Linear                                                   | --                                             | --                             | 10       |\n",
      "| │    │    │    └─(legalact_people)Sequential                                      | [30, 1, 4]                                     | [30, 1, 2]                     | 90       |\n",
      "| │    │    │    │    └─(0)SelfAttention                                            | [30, 1, 4]                                     | [30, 1, 4]                     | 80       |\n",
      "| │    │    │    │    │    └─(attn)MultiheadAttention                               | [30, 1, 4], [30, 1, 4], [30, 1, 4]             | [30, 1, 4], [30, 1, 1]         | 80       |\n",
      "| │    │    │    │    │    │    └─(out_proj)NonDynamicallyQuantizableLinear         | --                                             | --                             | 20       |\n",
      "| │    │    │    │    └─(1)Linear                                                   | [30, 1, 4]                                     | [30, 1, 2]                     | 10       |\n",
      "| │    │    │    └─(legalact_link)Sequential                                        | [30, 1, 4]                                     | [30, 1, 2]                     | 90       |\n",
      "| │    │    │    │    └─(0)SelfAttention                                            | [30, 1, 4]                                     | [30, 1, 4]                     | 80       |\n",
      "| │    │    │    │    │    └─(attn)MultiheadAttention                               | [30, 1, 4], [30, 1, 4], [30, 1, 4]             | [30, 1, 4], [30, 1, 1]         | 80       |\n",
      "| │    │    │    │    │    │    └─(out_proj)NonDynamicallyQuantizableLinear         | --                                             | --                             | 20       |\n",
      "| │    │    │    │    └─(1)Linear                                                   | [30, 1, 4]                                     | [30, 1, 2]                     | 10       |\n",
      "| │    │    │    └─(legalacts)Sequential                                            | [4096, 18, 4]                                  | [4096, 18, 2]                  | 90       |\n",
      "| │    │    │    │    └─(0)SelfAttention                                            | [4096, 18, 4]                                  | [4096, 18, 4]                  | 80       |\n",
      "| │    │    │    │    │    └─(attn)MultiheadAttention                               | [4096, 18, 4], [4096, 18, 4], [4096, 18, 4]    | [4096, 18, 4], [4096, 18, 18]  | 80       |\n",
      "| │    │    │    │    │    │    └─(out_proj)NonDynamicallyQuantizableLinear         | --                                             | --                             | 20       |\n",
      "| │    │    │    │    └─(1)Linear                                                   | [4096, 18, 4]                                  | [4096, 18, 2]                  | 10       |\n",
      "| │    └─(module_13)HeteroConv                                                      |                                                |                                | 240      |\n",
      "| │    │    └─(convs)ModuleDict                                                     | --                                             | --                             | 240      |\n",
      "| │    │    │    └─(<scrapefix___fk-actId___legalacts>)CrossAttentionConv           | [2, 1]                                         | [4096, 18, 2]                  | 24       |\n",
      "| │    │    │    └─(<legalact_people___fk-peopleId___people>)CrossAttentionConv     | --                                             | --                             | 24       |\n",
      "| │    │    │    └─(<legalact_people___fk-actId___legalacts>)CrossAttentionConv     | [2, 30]                                        | [4096, 18, 2]                  | 24       |\n",
      "| │    │    │    └─(<legalact_link___fk-actId1___legalacts>)CrossAttentionConv      | [2, 13]                                        | [4096, 18, 2]                  | 24       |\n",
      "| │    │    │    └─(<legalact_link___fk-actId2___legalacts>)CrossAttentionConv      | [2, 18]                                        | [4096, 18, 2]                  | 24       |\n",
      "| │    │    │    └─(<legalacts___rev_fk-actId___scrapefix>)CrossAttentionConv       | [2, 1]                                         | [1, 2, 2]                      | 24       |\n",
      "| │    │    │    └─(<people___rev_fk-peopleId___legalact_people>)CrossAttentionConv | --                                             | --                             | 24       |\n",
      "| │    │    │    └─(<legalacts___rev_fk-actId___legalact_people>)CrossAttentionConv | [2, 30]                                        | [30, 1, 2]                     | 24       |\n",
      "| │    │    │    └─(<legalacts___rev_fk-actId1___legalact_link>)CrossAttentionConv  | [2, 13]                                        | [30, 1, 2]                     | 24       |\n",
      "| │    │    │    └─(<legalacts___rev_fk-actId2___legalact_link>)CrossAttentionConv  | [2, 18]                                        | [30, 1, 2]                     | 24       |\n",
      "| │    └─(module_14)NodeApplied                                                     |                                                |                                | --       |\n",
      "| ├─(decoder)Sequential                                                             | [4096, 36]                                     | [4096, 7]                      | 6,983    |\n",
      "| │    └─(0)Sequential                                                              | [4096, 36]                                     | [4096, 7]                      | 6,983    |\n",
      "| │    │    └─(0)Linear                                                             | [4096, 36]                                     | [4096, 64]                     | 2,368    |\n",
      "| │    │    └─(1)ReLU                                                               | [4096, 64]                                     | [4096, 64]                     | --       |\n",
      "| │    │    └─(2)Linear                                                             | [4096, 64]                                     | [4096, 64]                     | 4,160    |\n",
      "| │    │    └─(3)ReLU                                                               | [4096, 64]                                     | [4096, 64]                     | --       |\n",
      "| │    │    └─(4)Linear                                                             | [4096, 64]                                     | [4096, 7]                      | 455      |\n",
      "| │    └─(1)Softmax                                                                 | [4096, 7]                                      | [4096, 7]                      | --       |\n",
      "+-----------------------------------------------------------------------------------+------------------------------------------------+--------------------------------+----------+\n"
     ]
    }
   ],
   "source": [
    "print(\n",
    "    summary(\n",
    "        model,\n",
    "        sample.collect(\"tf\"),\n",
    "        sample.collect(\"edge_index\", allow_empty=True),\n",
    "        max_depth=10,\n",
    "    )\n",
    ")"
   ]
  },
  {
   "cell_type": "code",
   "execution_count": 30,
   "metadata": {},
   "outputs": [
    {
     "name": "stderr",
     "output_type": "stream",
     "text": [
      "GPU available: True (cuda), used: False\n",
      "TPU available: False, using: 0 TPU cores\n",
      "IPU available: False, using: 0 IPUs\n",
      "HPU available: False, using: 0 HPUs\n",
      "\n",
      "  | Name        | Type             | Params\n",
      "-------------------------------------------------\n",
      "0 | model       | BlueprintModel   | 240 K \n",
      "1 | loss_module | CrossEntropyLoss | 0     \n",
      "-------------------------------------------------\n",
      "240 K     Trainable params\n",
      "0         Non-trainable params\n",
      "240 K     Total params\n",
      "0.962     Total estimated model params size (MB)\n"
     ]
    },
    {
     "name": "stdout",
     "output_type": "stream",
     "text": [
      "acc max\n"
     ]
    },
    {
     "data": {
      "application/vnd.jupyter.widget-view+json": {
       "model_id": "d6c83de82d9345c890bdc6b45b1e8080",
       "version_major": 2,
       "version_minor": 0
      },
      "text/plain": [
       "Sanity Checking: |          | 0/? [00:00<?, ?it/s]"
      ]
     },
     "metadata": {},
     "output_type": "display_data"
    },
    {
     "data": {
      "application/vnd.jupyter.widget-view+json": {
       "model_id": "9e878e52575e417888a2be0017da2c6e",
       "version_major": 2,
       "version_minor": 0
      },
      "text/plain": [
       "Training: |          | 0/? [00:00<?, ?it/s]"
      ]
     },
     "metadata": {},
     "output_type": "display_data"
    },
    {
     "data": {
      "application/vnd.jupyter.widget-view+json": {
       "model_id": "33ba0ff834d84aa58a632e0042eee38e",
       "version_major": 2,
       "version_minor": 0
      },
      "text/plain": [
       "Validation: |          | 0/? [00:00<?, ?it/s]"
      ]
     },
     "metadata": {},
     "output_type": "display_data"
    },
    {
     "data": {
      "application/vnd.jupyter.widget-view+json": {
       "model_id": "83dda552d4074aae85b5f1a27b686abd",
       "version_major": 2,
       "version_minor": 0
      },
      "text/plain": [
       "Validation: |          | 0/? [00:00<?, ?it/s]"
      ]
     },
     "metadata": {},
     "output_type": "display_data"
    },
    {
     "data": {
      "application/vnd.jupyter.widget-view+json": {
       "model_id": "4b048531013b410b8a053704edd9f4d7",
       "version_major": 2,
       "version_minor": 0
      },
      "text/plain": [
       "Validation: |          | 0/? [00:00<?, ?it/s]"
      ]
     },
     "metadata": {},
     "output_type": "display_data"
    },
    {
     "data": {
      "application/vnd.jupyter.widget-view+json": {
       "model_id": "c01f5dc6d3a74d3080767de167b2cabf",
       "version_major": 2,
       "version_minor": 0
      },
      "text/plain": [
       "Validation: |          | 0/? [00:00<?, ?it/s]"
      ]
     },
     "metadata": {},
     "output_type": "display_data"
    },
    {
     "data": {
      "application/vnd.jupyter.widget-view+json": {
       "model_id": "40349e27b078448eba3eb94564ef48e5",
       "version_major": 2,
       "version_minor": 0
      },
      "text/plain": [
       "Validation: |          | 0/? [00:00<?, ?it/s]"
      ]
     },
     "metadata": {},
     "output_type": "display_data"
    },
    {
     "data": {
      "application/vnd.jupyter.widget-view+json": {
       "model_id": "d324dfce05f74eb5b954e8093537f341",
       "version_major": 2,
       "version_minor": 0
      },
      "text/plain": [
       "Validation: |          | 0/? [00:00<?, ?it/s]"
      ]
     },
     "metadata": {},
     "output_type": "display_data"
    }
   ],
   "source": [
    "is_regression = dataset.defaults.task == TaskType.REGRESSION\n",
    "device = \"cuda\" if False and torch.cuda.is_available() else \"cpu\"\n",
    "\n",
    "lightning_model = LightningWrapper(\n",
    "    model, dataset.defaults.target_table, lr=0.0001, task_type=dataset.defaults.task\n",
    ")\n",
    "\n",
    "metric = \"mae\" if is_regression else \"acc\"\n",
    "cmp = \"min\" if is_regression else \"max\"\n",
    "\n",
    "print(metric, cmp)\n",
    "\n",
    "trainer = L.Trainer(\n",
    "    accelerator=device,\n",
    "    deterministic=False,\n",
    "    max_epochs=10,\n",
    "    max_steps=-1,\n",
    "    enable_checkpointing=False,\n",
    "    logger=False,\n",
    "    callbacks=[\n",
    "        BestMetricsLoggerCallback(\n",
    "            monitor=f\"val_{metric}\",\n",
    "            cmp=cmp,\n",
    "            metrics=[\n",
    "                # \"train_loss\",\n",
    "                # \"val_loss\",\n",
    "                # \"test_loss\",\n",
    "                f\"train_{metric}\",\n",
    "                f\"val_{metric}\",\n",
    "                f\"test_{metric}\",\n",
    "            ],\n",
    "        ),\n",
    "    ],\n",
    ")\n",
    "\n",
    "trainer.fit(lightning_model, train_loader, val_dataloaders=val_loader)"
   ]
  },
  {
   "cell_type": "code",
   "execution_count": null,
   "metadata": {},
   "outputs": [],
   "source": []
  }
 ],
 "metadata": {
  "kernelspec": {
   "display_name": "deep-db-learning",
   "language": "python",
   "name": "python3"
  },
  "language_info": {
   "codemirror_mode": {
    "name": "ipython",
    "version": 3
   },
   "file_extension": ".py",
   "mimetype": "text/x-python",
   "name": "python",
   "nbconvert_exporter": "python",
   "pygments_lexer": "ipython3",
   "version": "3.10.13"
  }
 },
 "nbformat": 4,
 "nbformat_minor": 2
}
